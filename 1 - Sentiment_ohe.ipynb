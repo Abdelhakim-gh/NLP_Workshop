{
 "cells": [
  {
   "cell_type": "code",
   "execution_count": 1,
   "id": "cf97b3f7-ab85-49ad-888d-931c956513a6",
   "metadata": {},
   "outputs": [],
   "source": [
    "#%% packages\n",
    "import pandas as pd\n",
    "import numpy as np\n",
    "from collections import Counter\n",
    "from sklearn.feature_extraction.text import CountVectorizer\n",
    "from sklearn.model_selection import train_test_split\n",
    "from sklearn.metrics import accuracy_score, confusion_matrix\n",
    "\n",
    "import torch\n",
    "import torch.nn as nn\n",
    "from torch.utils.data import Dataset, DataLoader\n",
    "\n",
    "import seaborn as sns\n",
    "import matplotlib.pyplot as plt"
   ]
  },
  {
   "cell_type": "code",
   "execution_count": 2,
   "id": "24df81f4-e40a-40e9-a0a6-022c1dfe1f0f",
   "metadata": {},
   "outputs": [
    {
     "data": {
      "text/html": [
       "<div>\n",
       "<style scoped>\n",
       "    .dataframe tbody tr th:only-of-type {\n",
       "        vertical-align: middle;\n",
       "    }\n",
       "\n",
       "    .dataframe tbody tr th {\n",
       "        vertical-align: top;\n",
       "    }\n",
       "\n",
       "    .dataframe thead th {\n",
       "        text-align: right;\n",
       "    }\n",
       "</style>\n",
       "<table border=\"1\" class=\"dataframe\">\n",
       "  <thead>\n",
       "    <tr style=\"text-align: right;\">\n",
       "      <th></th>\n",
       "      <th>textID</th>\n",
       "      <th>text</th>\n",
       "      <th>selected_text</th>\n",
       "      <th>sentiment</th>\n",
       "    </tr>\n",
       "  </thead>\n",
       "  <tbody>\n",
       "    <tr>\n",
       "      <th>0</th>\n",
       "      <td>cb774db0d1</td>\n",
       "      <td>I`d have responded, if I were going</td>\n",
       "      <td>I`d have responded, if I were going</td>\n",
       "      <td>neutral</td>\n",
       "    </tr>\n",
       "    <tr>\n",
       "      <th>1</th>\n",
       "      <td>549e992a42</td>\n",
       "      <td>Sooo SAD I will miss you here in San Diego!!!</td>\n",
       "      <td>Sooo SAD</td>\n",
       "      <td>negative</td>\n",
       "    </tr>\n",
       "    <tr>\n",
       "      <th>2</th>\n",
       "      <td>088c60f138</td>\n",
       "      <td>my boss is bullying me...</td>\n",
       "      <td>bullying me</td>\n",
       "      <td>negative</td>\n",
       "    </tr>\n",
       "    <tr>\n",
       "      <th>3</th>\n",
       "      <td>9642c003ef</td>\n",
       "      <td>what interview! leave me alone</td>\n",
       "      <td>leave me alone</td>\n",
       "      <td>negative</td>\n",
       "    </tr>\n",
       "    <tr>\n",
       "      <th>4</th>\n",
       "      <td>358bd9e861</td>\n",
       "      <td>Sons of ****, why couldn`t they put them on t...</td>\n",
       "      <td>Sons of ****,</td>\n",
       "      <td>negative</td>\n",
       "    </tr>\n",
       "    <tr>\n",
       "      <th>...</th>\n",
       "      <td>...</td>\n",
       "      <td>...</td>\n",
       "      <td>...</td>\n",
       "      <td>...</td>\n",
       "    </tr>\n",
       "    <tr>\n",
       "      <th>27476</th>\n",
       "      <td>4eac33d1c0</td>\n",
       "      <td>wish we could come see u on Denver  husband l...</td>\n",
       "      <td>d lost</td>\n",
       "      <td>negative</td>\n",
       "    </tr>\n",
       "    <tr>\n",
       "      <th>27477</th>\n",
       "      <td>4f4c4fc327</td>\n",
       "      <td>I`ve wondered about rake to.  The client has ...</td>\n",
       "      <td>, don`t force</td>\n",
       "      <td>negative</td>\n",
       "    </tr>\n",
       "    <tr>\n",
       "      <th>27478</th>\n",
       "      <td>f67aae2310</td>\n",
       "      <td>Yay good for both of you. Enjoy the break - y...</td>\n",
       "      <td>Yay good for both of you.</td>\n",
       "      <td>positive</td>\n",
       "    </tr>\n",
       "    <tr>\n",
       "      <th>27479</th>\n",
       "      <td>ed167662a5</td>\n",
       "      <td>But it was worth it  ****.</td>\n",
       "      <td>But it was worth it  ****.</td>\n",
       "      <td>positive</td>\n",
       "    </tr>\n",
       "    <tr>\n",
       "      <th>27480</th>\n",
       "      <td>6f7127d9d7</td>\n",
       "      <td>All this flirting going on - The ATG smiles...</td>\n",
       "      <td>All this flirting going on - The ATG smiles. Y...</td>\n",
       "      <td>neutral</td>\n",
       "    </tr>\n",
       "  </tbody>\n",
       "</table>\n",
       "<p>27480 rows × 4 columns</p>\n",
       "</div>"
      ],
      "text/plain": [
       "           textID                                               text  \\\n",
       "0      cb774db0d1                I`d have responded, if I were going   \n",
       "1      549e992a42      Sooo SAD I will miss you here in San Diego!!!   \n",
       "2      088c60f138                          my boss is bullying me...   \n",
       "3      9642c003ef                     what interview! leave me alone   \n",
       "4      358bd9e861   Sons of ****, why couldn`t they put them on t...   \n",
       "...           ...                                                ...   \n",
       "27476  4eac33d1c0   wish we could come see u on Denver  husband l...   \n",
       "27477  4f4c4fc327   I`ve wondered about rake to.  The client has ...   \n",
       "27478  f67aae2310   Yay good for both of you. Enjoy the break - y...   \n",
       "27479  ed167662a5                         But it was worth it  ****.   \n",
       "27480  6f7127d9d7     All this flirting going on - The ATG smiles...   \n",
       "\n",
       "                                           selected_text sentiment  \n",
       "0                    I`d have responded, if I were going   neutral  \n",
       "1                                               Sooo SAD  negative  \n",
       "2                                            bullying me  negative  \n",
       "3                                         leave me alone  negative  \n",
       "4                                          Sons of ****,  negative  \n",
       "...                                                  ...       ...  \n",
       "27476                                             d lost  negative  \n",
       "27477                                      , don`t force  negative  \n",
       "27478                          Yay good for both of you.  positive  \n",
       "27479                         But it was worth it  ****.  positive  \n",
       "27480  All this flirting going on - The ATG smiles. Y...   neutral  \n",
       "\n",
       "[27480 rows x 4 columns]"
      ]
     },
     "execution_count": 2,
     "metadata": {},
     "output_type": "execute_result"
    }
   ],
   "source": [
    "#%% data import \n",
    "twitter_file = 'Tweets.csv'\n",
    "df = pd.read_csv(twitter_file).dropna()\n",
    "df"
   ]
  },
  {
   "cell_type": "code",
   "execution_count": 3,
   "id": "c2c90674-5678-4dda-8cd2-945e07de9f7e",
   "metadata": {},
   "outputs": [],
   "source": [
    "# %% get class values based on categories\n",
    "cat_id = {'neutral': 1, \n",
    "          'negative': 0, \n",
    "          'positive': 2}\n",
    "\n",
    "df['class'] = df['sentiment'].map(cat_id)"
   ]
  },
  {
   "cell_type": "code",
   "execution_count": 4,
   "id": "37438411-944b-468c-b6ca-f77471349bff",
   "metadata": {},
   "outputs": [],
   "source": [
    "#%% Hyperparameters\n",
    "BATCH_SIZE = 512\n",
    "NUM_EPOCHS = 80"
   ]
  },
  {
   "cell_type": "code",
   "execution_count": 5,
   "id": "546ab71c-d5fa-40e1-a626-8c8d00e80153",
   "metadata": {},
   "outputs": [
    {
     "name": "stdout",
     "output_type": "stream",
     "text": [
      "X train: (13740,), y train: (13740,)\n",
      "X test: (13740,), y test: (13740,)\n"
     ]
    }
   ],
   "source": [
    "#%% separate independent and dependent features\n",
    "X = df['text'].values\n",
    "y = df['class'].values\n",
    "# %% train test split\n",
    "X_train, X_test, y_train, y_test = train_test_split(X, y, test_size = 0.5, random_state=123)\n",
    "print(f\"X train: {X_train.shape}, y train: {y_train.shape}\\nX test: {X_test.shape}, y test: {y_test.shape}\")\n",
    "#%%"
   ]
  },
  {
   "cell_type": "code",
   "execution_count": 6,
   "id": "5b33652f-9302-4142-805a-5cb644cc7593",
   "metadata": {},
   "outputs": [],
   "source": [
    "one_hot = CountVectorizer()\n",
    "X_train_onehot = one_hot.fit_transform(X_train)\n",
    "X_test_onehot = one_hot.transform(X_test)"
   ]
  },
  {
   "cell_type": "code",
   "execution_count": 7,
   "id": "1f411a4e-760d-4e5b-af5f-f041ed248d7e",
   "metadata": {},
   "outputs": [],
   "source": [
    "#%% Dataset Class\n",
    "class SentimentData(Dataset):\n",
    "    def __init__(self, X, y):\n",
    "        super().__init__()\n",
    "        self.X = torch.Tensor(X.toarray())\n",
    "        self.y = torch.Tensor(y).type(torch.LongTensor)\n",
    "        self.len = len(self.X)\n",
    "        \n",
    "    def __len__(self):\n",
    "        return self.len\n",
    "    \n",
    "    def __getitem__(self, index):\n",
    "        return self.X[index], self.y[index]\n",
    "    \n",
    "\n",
    "train_ds = SentimentData(X= X_train_onehot, y = y_train)\n",
    "test_ds = SentimentData(X_test_onehot, y_test)\n",
    "\n",
    "\n"
   ]
  },
  {
   "cell_type": "code",
   "execution_count": 8,
   "id": "1960358e-e0bc-4387-9c5e-0c0f35b86f86",
   "metadata": {},
   "outputs": [],
   "source": [
    "\n",
    "# %% Dataloader\n",
    "train_loader = DataLoader(dataset=train_ds, batch_size=BATCH_SIZE, shuffle=True)\n",
    "test_loader = DataLoader(test_ds, batch_size=15000)"
   ]
  },
  {
   "cell_type": "code",
   "execution_count": 9,
   "id": "59c92fc3-39f7-4baf-8d17-de6d5b72ebb2",
   "metadata": {},
   "outputs": [],
   "source": [
    "# %% Model\n",
    "class SentimentModel(nn.Module):\n",
    "    def __init__(self, NUM_FEATURES, NUM_CLASSES, HIDDEN = 10):\n",
    "        super().__init__()\n",
    "        self.linear = nn.Linear(NUM_FEATURES, HIDDEN)\n",
    "        self.linear2 = nn.Linear(HIDDEN, NUM_CLASSES)\n",
    "        self.relu = nn.ReLU()\n",
    "        self.log_softmax = nn.LogSoftmax(dim=1)\n",
    "        \n",
    "    def forward(self, x):\n",
    "        x = self.linear(x)\n",
    "        x = self.relu(x)\n",
    "        x = self.linear2(x)\n",
    "        x = self.log_softmax(x)\n",
    "        return x"
   ]
  },
  {
   "cell_type": "code",
   "execution_count": 10,
   "id": "86382ed0-a426-41f3-81af-2829f8f59c04",
   "metadata": {},
   "outputs": [],
   "source": [
    "\n",
    "#%% Model, Loss and Optimizer\n",
    "model = SentimentModel(NUM_FEATURES = X_train_onehot.shape[1], NUM_CLASSES = 3)\n",
    "\n",
    "criterion = nn.CrossEntropyLoss()\n",
    "optimizer = torch.optim.AdamW(model.parameters())"
   ]
  },
  {
   "cell_type": "code",
   "execution_count": 11,
   "id": "4060b73e-571c-4868-a857-2ca37e437c71",
   "metadata": {},
   "outputs": [
    {
     "name": "stdout",
     "output_type": "stream",
     "text": [
      "Epoch 0, Loss: 29.602559685707092\n",
      "Epoch 1, Loss: 28.11056077480316\n",
      "Epoch 2, Loss: 26.384707927703857\n",
      "Epoch 3, Loss: 24.517875134944916\n",
      "Epoch 4, Loss: 22.613900303840637\n",
      "Epoch 5, Loss: 20.764658987522125\n",
      "Epoch 6, Loss: 19.04703462123871\n",
      "Epoch 7, Loss: 17.485225081443787\n",
      "Epoch 8, Loss: 16.10268324613571\n",
      "Epoch 9, Loss: 14.876763343811035\n",
      "Epoch 10, Loss: 13.794145226478577\n",
      "Epoch 11, Loss: 12.846276015043259\n",
      "Epoch 12, Loss: 12.00304725766182\n",
      "Epoch 13, Loss: 11.259274512529373\n",
      "Epoch 14, Loss: 10.586797654628754\n",
      "Epoch 15, Loss: 9.988165766000748\n",
      "Epoch 16, Loss: 9.442881464958191\n",
      "Epoch 17, Loss: 8.952869474887848\n",
      "Epoch 18, Loss: 8.4981330037117\n",
      "Epoch 19, Loss: 8.081129968166351\n",
      "Epoch 20, Loss: 7.716410547494888\n",
      "Epoch 21, Loss: 7.354529902338982\n",
      "Epoch 22, Loss: 7.030713677406311\n",
      "Epoch 23, Loss: 6.732305735349655\n",
      "Epoch 24, Loss: 6.454306364059448\n",
      "Epoch 25, Loss: 6.198728621006012\n",
      "Epoch 26, Loss: 5.953213930130005\n",
      "Epoch 27, Loss: 5.72002936899662\n",
      "Epoch 28, Loss: 5.511515632271767\n",
      "Epoch 29, Loss: 5.310116961598396\n",
      "Epoch 30, Loss: 5.109045892953873\n",
      "Epoch 31, Loss: 4.937584742903709\n",
      "Epoch 32, Loss: 4.765354126691818\n",
      "Epoch 33, Loss: 4.6147385984659195\n",
      "Epoch 34, Loss: 4.459983557462692\n",
      "Epoch 35, Loss: 4.321896895766258\n",
      "Epoch 36, Loss: 4.1836679726839066\n",
      "Epoch 37, Loss: 4.05565932393074\n",
      "Epoch 38, Loss: 3.9391407445073128\n",
      "Epoch 39, Loss: 3.820041485130787\n",
      "Epoch 40, Loss: 3.7081827223300934\n",
      "Epoch 41, Loss: 3.6080471575260162\n",
      "Epoch 42, Loss: 3.50132005661726\n",
      "Epoch 43, Loss: 3.400263272225857\n",
      "Epoch 44, Loss: 3.3090822398662567\n",
      "Epoch 45, Loss: 3.223577134311199\n",
      "Epoch 46, Loss: 3.1364439353346825\n",
      "Epoch 47, Loss: 3.0556466951966286\n",
      "Epoch 48, Loss: 2.9799229726195335\n",
      "Epoch 49, Loss: 2.908246584236622\n",
      "Epoch 50, Loss: 2.833982229232788\n",
      "Epoch 51, Loss: 2.767925538122654\n",
      "Epoch 52, Loss: 2.697900243103504\n",
      "Epoch 53, Loss: 2.63153163343668\n",
      "Epoch 54, Loss: 2.5706009417772293\n",
      "Epoch 55, Loss: 2.513240337371826\n",
      "Epoch 56, Loss: 2.4519475176930428\n",
      "Epoch 57, Loss: 2.40107948333025\n",
      "Epoch 58, Loss: 2.346803992986679\n",
      "Epoch 59, Loss: 2.2980071008205414\n",
      "Epoch 60, Loss: 2.2467541098594666\n",
      "Epoch 61, Loss: 2.2005809396505356\n",
      "Epoch 62, Loss: 2.15136831253767\n",
      "Epoch 63, Loss: 2.113065116107464\n",
      "Epoch 64, Loss: 2.0673138834536076\n",
      "Epoch 65, Loss: 2.024093832820654\n",
      "Epoch 66, Loss: 1.9880448952317238\n",
      "Epoch 67, Loss: 1.9453396946191788\n",
      "Epoch 68, Loss: 1.9068314544856548\n",
      "Epoch 69, Loss: 1.8730685487389565\n",
      "Epoch 70, Loss: 1.837345626205206\n",
      "Epoch 71, Loss: 1.8015509955585003\n",
      "Epoch 72, Loss: 1.7740451879799366\n",
      "Epoch 73, Loss: 1.7411230765283108\n",
      "Epoch 74, Loss: 1.7073102556169033\n",
      "Epoch 75, Loss: 1.6769218854606152\n",
      "Epoch 76, Loss: 1.642363678663969\n",
      "Epoch 77, Loss: 1.6161739453673363\n",
      "Epoch 78, Loss: 1.593478724360466\n",
      "Epoch 79, Loss: 1.5614913329482079\n"
     ]
    }
   ],
   "source": [
    "\n",
    "# %% Model Training\n",
    "\n",
    "train_losses = []\n",
    "for e in range(NUM_EPOCHS):\n",
    "    curr_loss = 0\n",
    "    for X_batch, y_batch in train_loader:\n",
    "        optimizer.zero_grad()\n",
    "        y_pred_log = model(X_batch)\n",
    "        loss = criterion(y_pred_log, y_batch.long())\n",
    "        \n",
    "        curr_loss += loss.item()\n",
    "        loss.backward()\n",
    "        optimizer.step()\n",
    "    train_losses.append(curr_loss)\n",
    "    print(f\"Epoch {e}, Loss: {curr_loss}\")\n",
    "\n",
    "# %%"
   ]
  },
  {
   "cell_type": "code",
   "execution_count": 12,
   "id": "a036e550-0c2a-4109-bf6c-e81d3e8b7905",
   "metadata": {},
   "outputs": [
    {
     "data": {
      "image/png": "[encoded data removed]",
      "text/plain": [
       "<Figure size 640x480 with 1 Axes>"
      ]
     },
     "metadata": {},
     "output_type": "display_data"
    }
   ],
   "source": [
    "sns.lineplot(x=list(range(len(train_losses))), y= train_losses)\n",
    "plt.show()"
   ]
  },
  {
   "cell_type": "code",
   "execution_count": 13,
   "id": "06726891-cb7b-4a6c-b012-2e4ac37df45a",
   "metadata": {},
   "outputs": [],
   "source": [
    "# %% Model Evaluation\n",
    "with torch.no_grad():\n",
    "    for X_batch, y_batch in test_loader:\n",
    "        y_test_pred_log = model(X_batch)\n",
    "        y_test_pred = torch.argmax(y_test_pred_log, dim = 1)\n",
    "\n",
    "# %% "
   ]
  },
  {
   "cell_type": "code",
   "execution_count": 14,
   "id": "2d73279c-c589-431c-a594-63b7e09a0631",
   "metadata": {},
   "outputs": [],
   "source": [
    "y_test_pred_np = y_test_pred.squeeze().cpu().numpy()\n"
   ]
  },
  {
   "cell_type": "code",
   "execution_count": 15,
   "id": "e0cfef39-e3f2-4978-b4be-d44beeec03b0",
   "metadata": {},
   "outputs": [
    {
     "data": {
      "text/plain": [
       "'The accuracy of the model is 63.800000000000004%.'"
      ]
     },
     "execution_count": 15,
     "metadata": {},
     "output_type": "execute_result"
    }
   ],
   "source": [
    "# %%\n",
    "acc = accuracy_score(y_pred=y_test_pred_np, y_true = y_test)\n",
    "f\"The accuracy of the model is {np.round(acc, 3)*100}%.\"\n",
    "# %%"
   ]
  },
  {
   "cell_type": "code",
   "execution_count": 16,
   "id": "22886ce8-15db-4416-97da-8901a11eac21",
   "metadata": {},
   "outputs": [
    {
     "name": "stdout",
     "output_type": "stream",
     "text": [
      "Naive Classifier: 41.0 %\n"
     ]
    }
   ],
   "source": [
    "most_common_cnt = Counter(y_test).most_common()[0][1]\n",
    "print(f\"Naive Classifier: {np.round(most_common_cnt / len(y_test) * 100, 1)} %\")"
   ]
  },
  {
   "cell_type": "code",
   "execution_count": 17,
   "id": "3f7d6250-b6af-4950-8930-e08d7e61e2ec",
   "metadata": {},
   "outputs": [
    {
     "data": {
      "text/plain": [
       "<Axes: >"
      ]
     },
     "execution_count": 17,
     "metadata": {},
     "output_type": "execute_result"
    },
    {
     "data": {
      "image/png": "[encoded data removed]",
      "text/plain": [
       "<Figure size 640x480 with 2 Axes>"
      ]
     },
     "metadata": {},
     "output_type": "display_data"
    }
   ],
   "source": [
    "# %% Confusion Matrix\n",
    "sns.heatmap(confusion_matrix(y_test_pred_np, y_test), annot=True, fmt=\".0f\")\n",
    "# %%\n"
   ]
  },
  {
   "cell_type": "code",
   "execution_count": null,
   "id": "b85d3fdc-99d7-4d45-b109-c8bcd60d7d8b",
   "metadata": {},
   "outputs": [],
   "source": []
  }
 ],
 "metadata": {
  "kernelspec": {
   "display_name": "Python 3 (ipykernel)",
   "language": "python",
   "name": "python3"
  },
  "language_info": {
   "codemirror_mode": {
    "name": "ipython",
    "version": 3
   },
   "file_extension": ".py",
   "mimetype": "text/x-python",
   "name": "python",
   "nbconvert_exporter": "python",
   "pygments_lexer": "ipython3",
   "version": "3.10.11"
  }
 },
 "nbformat": 4,
 "nbformat_minor": 5
}
