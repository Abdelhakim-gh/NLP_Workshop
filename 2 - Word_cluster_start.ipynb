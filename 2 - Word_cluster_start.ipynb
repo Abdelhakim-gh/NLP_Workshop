{
  "nbformat": 4,
  "nbformat_minor": 0,
  "metadata": {
    "colab": {
      "provenance": [],
      "gpuType": "T4"
    },
    "kernelspec": {
      "name": "python3",
      "display_name": "Python 3"
    },
    "language_info": {
      "name": "python"
    },
    "accelerator": "GPU"
  },
  "cells": [
    {
      "cell_type": "code",
      "source": [
        "#%% packages\n",
        "import pandas as pd\n",
        "from plotnine import ggplot, aes, geom_text, labs\n",
        "from sklearn.manifold import TSNE\n",
        "import torchtext.vocab as vocab\n",
        "import torch\n",
        "\n",
        "#%% import GloVe\n",
        "glove_dim = 100\n",
        "glove = vocab.GloVe(name='6B', dim = glove_dim)"
      ],
      "metadata": {
        "id": "WmKJU2jwF7hM"
      },
      "execution_count": 6,
      "outputs": []
    },
    {
      "cell_type": "code",
      "source": [
        "#%% Get closest words from word input\n",
        "def get_embedding_vector(word):\n",
        "    word_index = glove.stoi[word]\n",
        "    emb = glove.vectors[word_index]\n",
        "    return emb\n",
        "\n",
        "def get_closest_words_from_word(word, max_n=5):\n",
        "    word_emb = get_embedding_vector(word)\n",
        "    distances = [(w, torch.dist(word_emb, get_embedding_vector(w)).cpu().item()) for w in glove.itos]\n",
        "    dist_sort_filt = sorted(distances, key=lambda x: x[1])[:max_n]\n",
        "    return [item[0] for item in dist_sort_filt]\n",
        "\n",
        "get_closest_words_from_word(word='chess', max_n=10)\n"
      ],
      "metadata": {
        "colab": {
          "base_uri": "https://localhost:8080/"
        },
        "id": "4O7MfXFJF92q",
        "outputId": "c83a8c40-b695-43cf-e0fb-93794f5e456f"
      },
      "execution_count": 7,
      "outputs": [
        {
          "output_type": "execute_result",
          "data": {
            "text/plain": [
              "['chess',\n",
              " 'backgammon',\n",
              " 'grandmasters',\n",
              " 'grandmaster',\n",
              " 'scrabble',\n",
              " 'billiards',\n",
              " 'xiangqi',\n",
              " 'kasparov',\n",
              " 'snooker',\n",
              " 'olympiad']"
            ]
          },
          "metadata": {},
          "execution_count": 7
        }
      ]
    },
    {
      "cell_type": "code",
      "source": [],
      "metadata": {
        "id": "ixFV044IF_yB"
      },
      "execution_count": null,
      "outputs": []
    }
  ]
}